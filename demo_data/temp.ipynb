version https://git-lfs.github.com/spec/v1
oid sha256:6392a43c60e8b7ea60ffef5ad6771d7110be29cedfd2ccb8819e7cdab5454eb4
size 22101
